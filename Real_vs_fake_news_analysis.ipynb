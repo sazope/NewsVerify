{
 "cells": [
  {
   "cell_type": "code",
   "execution_count": 1,
   "id": "fhGIZoj9oAgt",
   "metadata": {
    "colab": {
     "base_uri": "https://localhost:8080/"
    },
    "id": "fhGIZoj9oAgt",
    "outputId": "ef58b571-21d7-44d6-b674-342723ca0651",
    "scrolled": true
   },
   "outputs": [
    {
     "name": "stdout",
     "output_type": "stream",
     "text": [
      "Mounted at /drive\n"
     ]
    }
   ],
   "source": [
    "from google.colab import drive\n",
    "drive.mount(\"/drive\", force_remount=True)"
   ]
  },
  {
   "cell_type": "code",
   "execution_count": 1,
   "id": "d7903a41",
   "metadata": {
    "id": "d7903a41"
   },
   "outputs": [],
   "source": [
    "import os\n",
    "import pandas as pd\n",
    "from tqdm import tqdm\n",
    "tqdm.pandas()"
   ]
  },
  {
   "cell_type": "markdown",
   "id": "da055f3f",
   "metadata": {
    "id": "da055f3f"
   },
   "source": [
    "### Load data"
   ]
  },
  {
   "cell_type": "code",
   "execution_count": 2,
   "id": "a18f850e",
   "metadata": {
    "id": "a18f850e",
    "scrolled": true
   },
   "outputs": [],
   "source": [
    "real_news_df = pd.read_csv('/drive/My Drive/Colab Notebooks/IST 664/2023/True.csv')\n",
    "fake_news_df = pd.read_csv('/drive/My Drive/Colab Notebooks/IST 664/2023/Fake.csv')\n",
    "\n",
    "# My local loading\n",
    "# real_news_df = pd.read_csv('News_dataset/True.csv')\n",
    "# fake_news_df = pd.read_csv('News_dataset/Fake.csv')"
   ]
  },
  {
   "cell_type": "markdown",
   "id": "c60b6d15",
   "metadata": {
    "id": "c60b6d15"
   },
   "source": [
    "### Preprocess"
   ]
  },
  {
   "cell_type": "code",
   "execution_count": 3,
   "id": "9cee1edf",
   "metadata": {
    "colab": {
     "base_uri": "https://localhost:8080/"
    },
    "id": "9cee1edf",
    "outputId": "b237d28c-9d8e-488a-d210-b9194c2e4225",
    "scrolled": true
   },
   "outputs": [
    {
     "name": "stderr",
     "output_type": "stream",
     "text": [
      "[nltk_data] Downloading package wordnet to /Users/pranav/nltk_data...\n",
      "[nltk_data]   Package wordnet is already up-to-date!\n",
      "[nltk_data] Downloading package punkt to /Users/pranav/nltk_data...\n",
      "[nltk_data]   Package punkt is already up-to-date!\n",
      "[nltk_data] Downloading package stopwords to\n",
      "[nltk_data]     /Users/pranav/nltk_data...\n",
      "[nltk_data]   Package stopwords is already up-to-date!\n"
     ]
    },
    {
     "data": {
      "text/plain": [
       "True"
      ]
     },
     "execution_count": 3,
     "metadata": {},
     "output_type": "execute_result"
    }
   ],
   "source": [
    "import nltk\n",
    "from nltk.corpus import stopwords\n",
    "from nltk.stem import WordNetLemmatizer\n",
    "from nltk.tokenize import word_tokenize\n",
    "nltk.download('wordnet')\n",
    "nltk.download('punkt')\n",
    "nltk.download('stopwords')"
   ]
  },
  {
   "cell_type": "code",
   "execution_count": 4,
   "id": "20355bb6",
   "metadata": {
    "id": "20355bb6"
   },
   "outputs": [],
   "source": [
    "# Init lemmatizer\n",
    "lemmatizer = WordNetLemmatizer()"
   ]
  },
  {
   "cell_type": "markdown",
   "id": "f79ef99b",
   "metadata": {
    "id": "f79ef99b"
   },
   "source": [
    "Data Pre-processing:\n",
    "\n",
    "- Lowercasing\n",
    "  - Ensures that the same word in different cases is not considered as two different words, reducing data redundancy.\n",
    "\n",
    "- Tokenization:\n",
    "  - Allows us to analyze the text at the word level, which is crucial for most NLP tasks.\n",
    "\n",
    "- Stop word removal:\n",
    "  - Helps us focus on the important words by removing common words with little semantic value.\n",
    "  - Reduces the size of the data, making it more manageable.\n",
    "\n",
    "- Lemmatization:\n",
    "  - Reduces words to their base form, decreasing data dimensionality.\n",
    "  - Helps in treating different forms of a word as a single entity, which is important for understanding the semantic meaning of the text."
   ]
  },
  {
   "cell_type": "code",
   "execution_count": 5,
   "id": "97bffe2a",
   "metadata": {
    "id": "97bffe2a"
   },
   "outputs": [],
   "source": [
    "def preprocess_text(text):\n",
    "\n",
    "    text = text.lower()\n",
    "\n",
    "    words = word_tokenize(text) # Tokenize the text\n",
    "\n",
    "    words = [word for word in words if word not in stopwords.words('english')] # Remove stop words\n",
    "\n",
    "    words = [lemmatizer.lemmatize(word) for word in words] # Lemmatize the words\n",
    "\n",
    "    text = ' '.join(words) # Join the words back into a single string\n",
    "\n",
    "    return text"
   ]
  },
  {
   "cell_type": "code",
   "execution_count": 6,
   "id": "qeNsUIz6pYvo",
   "metadata": {
    "id": "qeNsUIz6pYvo"
   },
   "outputs": [],
   "source": [
    "# Save the original text before it processed\n",
    "real_news_df['original_text'] = real_news_df['text'].copy()\n",
    "fake_news_df['original_text'] = fake_news_df['text'].copy()\n"
   ]
  },
  {
   "cell_type": "code",
   "execution_count": 7,
   "id": "dd59bb05",
   "metadata": {
    "id": "dd59bb05",
    "scrolled": false
   },
   "outputs": [
    {
     "name": "stderr",
     "output_type": "stream",
     "text": [
      "100%|███████████████████████████████████████████████████████████████████████████████████████████████████████████| 21417/21417 [06:39<00:00, 53.57it/s]\n",
      "100%|███████████████████████████████████████████████████████████████████████████████████████████████████████████| 23481/23481 [07:46<00:00, 50.30it/s]"
     ]
    },
    {
     "name": "stdout",
     "output_type": "stream",
     "text": [
      "CPU times: user 10min 55s, sys: 3min 27s, total: 14min 22s\n",
      "Wall time: 14min 26s\n"
     ]
    },
    {
     "name": "stderr",
     "output_type": "stream",
     "text": [
      "\n"
     ]
    }
   ],
   "source": [
    "%%time\n",
    "# Takes 14 min to complete\n",
    "real_news_df['text'] = real_news_df['text'].progress_apply(preprocess_text)\n",
    "fake_news_df['text'] = fake_news_df['text'].progress_apply(preprocess_text)"
   ]
  },
  {
   "cell_type": "markdown",
   "id": "4333cf6f",
   "metadata": {
    "id": "4333cf6f"
   },
   "source": [
    "### Analysis"
   ]
  },
  {
   "cell_type": "code",
   "execution_count": 8,
   "id": "dd38ddf4",
   "metadata": {
    "id": "dd38ddf4"
   },
   "outputs": [],
   "source": [
    "import re\n",
    "import string\n",
    "from nltk import pos_tag\n",
    "from nltk.corpus import stopwords\n",
    "from nltk import FreqDist, bigrams\n",
    "from nltk.collocations import BigramAssocMeasures, BigramCollocationFinder"
   ]
  },
  {
   "cell_type": "code",
   "execution_count": 9,
   "id": "0700f690",
   "metadata": {
    "id": "0700f690"
   },
   "outputs": [],
   "source": [
    "# Calculate word frequencies\n",
    "def word_frequencies(texts, no_stopwords_flag=False):\n",
    "    words = nltk.word_tokenize(' '.join(texts))\n",
    "    if no_stopwords_flag:\n",
    "        words = [word for word in words if word not in stopwords.words('english')]\n",
    "    elif not no_stopwords_flag:\n",
    "        words = [word for word in words if word in stopwords.words('english')]\n",
    "    return FreqDist(words)"
   ]
  },
  {
   "cell_type": "code",
   "execution_count": 10,
   "id": "3fd5b625",
   "metadata": {
    "id": "3fd5b625"
   },
   "outputs": [],
   "source": [
    "# Calculate bigram frequencies\n",
    "def bigram_frequencies(texts):\n",
    "    words = nltk.word_tokenize(' '.join(texts))\n",
    "    bigram_measures = BigramAssocMeasures()\n",
    "    finder = BigramCollocationFinder.from_words(words)\n",
    "    return finder.ngram_fd.items()"
   ]
  },
  {
   "cell_type": "code",
   "execution_count": 11,
   "id": "8f4b8b06",
   "metadata": {
    "id": "8f4b8b06"
   },
   "outputs": [],
   "source": [
    "# Calculate Mutual Information scores\n",
    "def mutual_info_scores(texts, min_freq=5):\n",
    "    words = nltk.word_tokenize(' '.join(texts))\n",
    "    bigram_measures = BigramAssocMeasures()\n",
    "    finder = BigramCollocationFinder.from_words(words)\n",
    "    finder.apply_freq_filter(min_freq)\n",
    "    return finder.score_ngrams(bigram_measures.pmi)\n"
   ]
  },
  {
   "cell_type": "code",
   "execution_count": 12,
   "id": "5e126830",
   "metadata": {
    "id": "5e126830",
    "outputId": "b5e8f80c-a549-4bb2-f359-2f488ecacf15"
   },
   "outputs": [
    {
     "name": "stdout",
     "output_type": "stream",
     "text": [
      "CPU times: user 13min 34s, sys: 4min 17s, total: 17min 51s\n",
      "Wall time: 18min\n"
     ]
    }
   ],
   "source": [
    "%%time\n",
    "# Get the top 50 stop words by frequency in fake and real news articles\n",
    "fake_news_stopwords = word_frequencies(fake_news_df['text'].tolist(), no_stopwords_flag=False).most_common(50)\n",
    "real_news_stopwords = word_frequencies(real_news_df['text'].tolist(), no_stopwords_flag=False).most_common(50)\n",
    "\n",
    "# Get the top 50 content words by frequency in fake and real news articles\n",
    "fake_news_content_words = word_frequencies(fake_news_df['text'].tolist(), no_stopwords_flag=True).most_common(50)\n",
    "real_news_content_words = word_frequencies(fake_news_df['text'].tolist(), no_stopwords_flag=True).most_common(50)\n"
   ]
  },
  {
   "cell_type": "code",
   "execution_count": 13,
   "id": "9b9a1880",
   "metadata": {
    "id": "9b9a1880",
    "scrolled": true
   },
   "outputs": [
    {
     "name": "stdout",
     "output_type": "stream",
     "text": [
      "CPU times: user 49.8 s, sys: 457 ms, total: 50.3 s\n",
      "Wall time: 50.4 s\n"
     ]
    }
   ],
   "source": [
    "%%time\n",
    "# Get the top 50 bigrams by frequencies in fake and real news articles\n",
    "fake_news_bigrams = bigram_frequencies(fake_news_df['text'].tolist())\n",
    "fake_news_bigrams_top50 = FreqDist(fake_news_bigrams).most_common(50)\n",
    "real_news_bigrams = bigram_frequencies(fake_news_df['text'].tolist())\n",
    "real_news_bigrams_top50 = FreqDist(real_news_bigrams).most_common(50)\n"
   ]
  },
  {
   "cell_type": "code",
   "execution_count": 14,
   "id": "9ae1fc08",
   "metadata": {
    "id": "9ae1fc08",
    "scrolled": true
   },
   "outputs": [
    {
     "name": "stdout",
     "output_type": "stream",
     "text": [
      "CPU times: user 49.7 s, sys: 331 ms, total: 50 s\n",
      "Wall time: 50.1 s\n"
     ]
    }
   ],
   "source": [
    "%%time\n",
    "# Get the top 50 bigrams by their Mutual Information scores in fake and real news articles\n",
    "fake_news_bigrams_mi = mutual_info_scores(fake_news_df['text'].tolist())\n",
    "fake_news_bigrams_mi_top50 = FreqDist(fake_news_bigrams_mi).most_common(50)\n",
    "\n",
    "real_news_bigrams_mi = mutual_info_scores(fake_news_df['text'].tolist())\n",
    "real_news_bigrams_mi_top50 = FreqDist(real_news_bigrams_mi).most_common(50)\n"
   ]
  },
  {
   "cell_type": "code",
   "execution_count": 15,
   "id": "debee9ea",
   "metadata": {
    "id": "debee9ea",
    "scrolled": true
   },
   "outputs": [
    {
     "name": "stdout",
     "output_type": "stream",
     "text": [
      "CPU times: user 5min 9s, sys: 2.07 s, total: 5min 11s\n",
      "Wall time: 5min 12s\n"
     ]
    }
   ],
   "source": [
    "%%time\n",
    "# Get the top 50 adjective words in fake and real news articles\n",
    "fake_news_adjectives = [word for word, pos in pos_tag(nltk.word_tokenize(' '.join(fake_news_df['text'].tolist()))) if pos.startswith('JJ')]\n",
    "real_news_adjectives = [word for word, pos in pos_tag(nltk.word_tokenize(' '.join(fake_news_df['text'].tolist()))) if pos.startswith('JJ')]\n",
    "fake_news_adjectives = FreqDist(fake_news_adjectives).most_common(50)\n",
    "real_news_adjectives = FreqDist(real_news_adjectives).most_common(50)\n"
   ]
  },
  {
   "cell_type": "code",
   "execution_count": 16,
   "id": "130282c6",
   "metadata": {
    "id": "130282c6",
    "scrolled": true
   },
   "outputs": [
    {
     "name": "stdout",
     "output_type": "stream",
     "text": [
      "Top 50 stop words in fake news:\n",
      " [('as', 507), ('being', 187), ('down', 86), ('be', 64), ('m', 56), ('d', 33), ('re', 32), ('s', 31), ('haven', 28), ('can', 25), ('ma', 18), ('in', 14), ('so', 13), ('out', 11), ('t', 10), ('will', 8), ('do', 8), ('it', 8), ('more', 8), ('he', 8), ('there', 6), ('o', 5), ('have', 5), ('this', 4), ('that', 4), ('you', 3), ('no', 3), ('now', 2), ('an', 2), ('here', 2), ('yourself', 2), ('on', 2), ('all', 1), ('himself', 1), ('ours', 1), ('below', 1), ('is', 1), ('while', 1), ('theirs', 1), ('don', 1), ('them', 1), ('him', 1), ('i', 1)]\n",
      "\n",
      "Top 50 stop words in real news:\n",
      " [('it', 208), ('that', 118), ('them', 83), ('do', 69), ('me', 66), ('out', 64), ('now', 63), ('him', 59), ('haven', 57), ('again', 55), ('here', 47), ('this', 42), ('up', 38), ('on', 36), ('you', 34), ('be', 33), ('ma', 33), ('no', 30), ('is', 30), ('will', 28), ('not', 27), ('there', 27), ('all', 27), ('down', 26), ('about', 25), ('so', 24), ('m', 24), ('in', 22), ('for', 20), ('to', 18), ('with', 18), ('more', 17), ('are', 16), ('too', 16), ('can', 15), ('doing', 14), ('other', 14), ('did', 13), ('over', 13), ('off', 12), ('themselves', 12), ('her', 11), ('before', 11), ('have', 11), ('being', 11), ('does', 10), ('of', 10), ('through', 9), ('himself', 9), ('re', 9)]\n",
      "\n",
      "\n",
      "######################\n",
      "\n",
      "\n",
      "Top 50 content words in fake news:\n",
      " [(',', 483697), ('.', 292558), ('trump', 74406), (':', 60297), (')', 42754), ('(', 42446), ('said', 31149), ('?', 28310), ('@', 28177), ('president', 26342), ('people', 26098), ('one', 23812), ('would', 23461), ('state', 22072), ('clinton', 18717), ('like', 18207), ('obama', 17920), ('time', 17885), ('donald', 17235), ('!', 16976), ('american', 16093), ('republican', 16061), ('say', 15528), ('also', 15243), ('year', 14843), ('news', 14199), ('new', 14198), ('u', 14172), ('image', 13937), ('even', 13692), ('hillary', 13678), ('white', 13146), ('right', 12698), ('get', 12230), ('know', 11947), ('make', 11534), ('via', 11355), ('woman', 11207), ('medium', 11142), ('campaign', 11073), ('house', 10775), ('country', 10771), ('america', 10703), ('could', 10230), ('first', 10042), ('want', 9818), ('think', 9765), ('going', 9750), ('many', 9719), ('$', 9613)]\n",
      "Top 50 content words in real news:\n",
      " [(',', 483697), ('.', 292558), ('trump', 74406), (':', 60297), (')', 42754), ('(', 42446), ('said', 31149), ('?', 28310), ('@', 28177), ('president', 26342), ('people', 26098), ('one', 23812), ('would', 23461), ('state', 22072), ('clinton', 18717), ('like', 18207), ('obama', 17920), ('time', 17885), ('donald', 17235), ('!', 16976), ('american', 16093), ('republican', 16061), ('say', 15528), ('also', 15243), ('year', 14843), ('news', 14199), ('new', 14198), ('u', 14172), ('image', 13937), ('even', 13692), ('hillary', 13678), ('white', 13146), ('right', 12698), ('get', 12230), ('know', 11947), ('make', 11534), ('via', 11355), ('woman', 11207), ('medium', 11142), ('campaign', 11073), ('house', 10775), ('country', 10771), ('america', 10703), ('could', 10230), ('first', 10042), ('want', 9818), ('think', 9765), ('going', 9750), ('many', 9719), ('$', 9613)]\n",
      "\n",
      "\n",
      "######################\n",
      "\n",
      "\n",
      "Top 50 bigrams in fake news:\n",
      " [((('donald', 'trump'), 13233), 1), ((('trump', 'wish'), 5), 1), ((('wish', 'american'), 5), 1), ((('american', 'happy'), 9), 1), ((('happy', 'new'), 24), 1), ((('new', 'year'), 292), 1), ((('year', 'leave'), 2), 1), ((('leave', '.'), 129), 1), ((('.', 'instead'), 923), 1), ((('instead', ','), 711), 1), (((',', 'give'), 343), 1), ((('give', 'shout'), 2), 1), ((('shout', 'enemy'), 1), 1), ((('enemy', ','), 121), 1), (((',', 'hater'), 17), 1), ((('hater', 'dishonest'), 1), 1), ((('dishonest', 'fake'), 8), 1), ((('fake', 'news'), 1768), 1), ((('news', 'medium'), 214), 1), ((('medium', '.'), 598), 1), ((('.', 'former'), 454), 1), ((('former', 'reality'), 174), 1), ((('reality', 'show'), 211), 1), ((('show', 'star'), 139), 1), ((('star', 'one'), 4), 1), ((('one', 'job'), 22), 1), ((('job', '.'), 697), 1), ((('.', 'country'), 247), 1), ((('country', 'rapidly'), 5), 1), ((('rapidly', 'grows'), 4), 1), ((('grows', 'stronger'), 4), 1), ((('stronger', 'smarter'), 4), 1), ((('smarter', ','), 18), 1), (((',', 'want'), 1064), 1), ((('want', 'wish'), 4), 1), ((('wish', 'friend'), 7), 1), ((('friend', ','), 472), 1), (((',', 'supporter'), 138), 1), ((('supporter', ','), 473), 1), (((',', 'enemy'), 48), 1), ((('hater', ','), 43), 1), (((',', 'even'), 3242), 1), ((('even', 'dishonest'), 9), 1), ((('medium', ','), 969), 1), (((',', 'happy'), 97), 1), ((('happy', 'healthy'), 6), 1), ((('healthy', 'new'), 4), 1), ((('year', ','), 3024), 1), (((',', 'president'), 2194), 1), ((('president', 'angry'), 1), 1)]\n",
      "\n",
      "Top 50 bigrams in real news:\n",
      " [((('donald', 'trump'), 13233), 1), ((('trump', 'wish'), 5), 1), ((('wish', 'american'), 5), 1), ((('american', 'happy'), 9), 1), ((('happy', 'new'), 24), 1), ((('new', 'year'), 292), 1), ((('year', 'leave'), 2), 1), ((('leave', '.'), 129), 1), ((('.', 'instead'), 923), 1), ((('instead', ','), 711), 1), (((',', 'give'), 343), 1), ((('give', 'shout'), 2), 1), ((('shout', 'enemy'), 1), 1), ((('enemy', ','), 121), 1), (((',', 'hater'), 17), 1), ((('hater', 'dishonest'), 1), 1), ((('dishonest', 'fake'), 8), 1), ((('fake', 'news'), 1768), 1), ((('news', 'medium'), 214), 1), ((('medium', '.'), 598), 1), ((('.', 'former'), 454), 1), ((('former', 'reality'), 174), 1), ((('reality', 'show'), 211), 1), ((('show', 'star'), 139), 1), ((('star', 'one'), 4), 1), ((('one', 'job'), 22), 1), ((('job', '.'), 697), 1), ((('.', 'country'), 247), 1), ((('country', 'rapidly'), 5), 1), ((('rapidly', 'grows'), 4), 1), ((('grows', 'stronger'), 4), 1), ((('stronger', 'smarter'), 4), 1), ((('smarter', ','), 18), 1), (((',', 'want'), 1064), 1), ((('want', 'wish'), 4), 1), ((('wish', 'friend'), 7), 1), ((('friend', ','), 472), 1), (((',', 'supporter'), 138), 1), ((('supporter', ','), 473), 1), (((',', 'enemy'), 48), 1), ((('hater', ','), 43), 1), (((',', 'even'), 3242), 1), ((('even', 'dishonest'), 9), 1), ((('medium', ','), 969), 1), (((',', 'happy'), 97), 1), ((('happy', 'healthy'), 6), 1), ((('healthy', 'new'), 4), 1), ((('year', ','), 3024), 1), (((',', 'president'), 2194), 1), ((('president', 'angry'), 1), 1)]\n",
      "\n",
      "\n",
      "######################\n",
      "\n",
      "\n",
      "Top 50 bigrams by MI in fake news:\n",
      " [((('//t.co/ltdtbehhgh', 'pic.twitter.com/t2s8ufif5o'), 20.33519689308169), 1), ((('0000', '0907'), 20.33519689308169), 1), ((('0907', '84b4'), 20.33519689308169), 1), ((('314a', '3453'), 20.33519689308169), 1), ((('3453', '0000'), 20.33519689308169), 1), ((('4d6c', '6330'), 20.33519689308169), 1), ((('5707', '5736'), 20.33519689308169), 1), ((('5774', '6a7a'), 20.33519689308169), 1), ((('6330', '666b'), 20.33519689308169), 1), ((('666b', '314a'), 20.33519689308169), 1), ((('6a7a', '4d6c'), 20.33519689308169), 1), ((('7616', '86f7'), 20.33519689308169), 1), ((('84b4', 'f787'), 20.33519689308169), 1), ((('86f7', 'a737'), 20.33519689308169), 1), ((('a737', '5707'), 20.33519689308169), 1), ((('acab', 'pic.twitter.com/naqnehnd5g'), 20.33519689308169), 1), ((('f787', '7616'), 20.33519689308169), 1), ((('hemmed', 'hawed'), 20.33519689308169), 1), ((('kambree', 'kawahine'), 20.33519689308169), 1), ((('kawahine', 'koa'), 20.33519689308169), 1), ((('lynnette', 'hardway'), 20.33519689308169), 1), ((('managementvideo', 'solutionsvideo'), 20.33519689308169), 1), ((('myocardial', 'infarction'), 20.33519689308169), 1), ((('palos', 'verdes'), 20.33519689308169), 1), ((('pic.twitter.com/pxbrcgypwm', \"'gitmo\"), 20.33519689308169), 1), ((('platformvideo', 'managementvideo'), 20.33519689308169), 1), ((('punctured', 'tires.february'), 20.33519689308169), 1), ((('r.t.', 'rybak'), 20.33519689308169), 1), ((('today.4767', '5774'), 20.33519689308169), 1), ((('vis-', '-vis'), 20.33519689308169), 1), ((('11/21/2009', '6/24/2016'), 20.072162487247894), 1), ((('300m', 'employee-related'), 20.072162487247894), 1), ((('bacha', 'bazi'), 20.072162487247894), 1), ((('bucolic', 'adirondacks'), 20.072162487247894), 1), ((('fern', 'ndez'), 20.072162487247894), 1), ((('kel', 'inen'), 20.072162487247894), 1), ((('kevork', 'djansezian/getty'), 20.072162487247894), 1), ((('miyoshi', 'jager'), 20.072162487247894), 1), ((('mondaiale', 'commerciale'), 20.072162487247894), 1), ((('paolo', 'gentiloni'), 20.072162487247894), 1), ((('psi', 'upsilon'), 20.072162487247894), 1), ((('sedrick', 'tydus'), 20.072162487247894), 1), ((('semper', 'fi'), 20.072162487247894), 1), ((('sseldorf', 'stuttgart'), 20.072162487247894), 1), ((('283', '-138'), 19.849770065911446), 1), ((('bendavid', 'grabinski'), 19.849770065911446), 1), ((('dani', 'bostick'), 19.849770065911446), 1), ((('g.k.', 'butterfield'), 19.849770065911446), 1), ((('neilson', 'barnard/getty'), 19.849770065911446), 1), ((('pic.twitter.com/fs297jooqi', 'vivelafrance'), 19.849770065911446), 1)]\n",
      "\n",
      "Top 50 bigrams by MI in real news:\n",
      " [((('//t.co/ltdtbehhgh', 'pic.twitter.com/t2s8ufif5o'), 20.33519689308169), 1), ((('0000', '0907'), 20.33519689308169), 1), ((('0907', '84b4'), 20.33519689308169), 1), ((('314a', '3453'), 20.33519689308169), 1), ((('3453', '0000'), 20.33519689308169), 1), ((('4d6c', '6330'), 20.33519689308169), 1), ((('5707', '5736'), 20.33519689308169), 1), ((('5774', '6a7a'), 20.33519689308169), 1), ((('6330', '666b'), 20.33519689308169), 1), ((('666b', '314a'), 20.33519689308169), 1), ((('6a7a', '4d6c'), 20.33519689308169), 1), ((('7616', '86f7'), 20.33519689308169), 1), ((('84b4', 'f787'), 20.33519689308169), 1), ((('86f7', 'a737'), 20.33519689308169), 1), ((('a737', '5707'), 20.33519689308169), 1), ((('acab', 'pic.twitter.com/naqnehnd5g'), 20.33519689308169), 1), ((('f787', '7616'), 20.33519689308169), 1), ((('hemmed', 'hawed'), 20.33519689308169), 1), ((('kambree', 'kawahine'), 20.33519689308169), 1), ((('kawahine', 'koa'), 20.33519689308169), 1), ((('lynnette', 'hardway'), 20.33519689308169), 1), ((('managementvideo', 'solutionsvideo'), 20.33519689308169), 1), ((('myocardial', 'infarction'), 20.33519689308169), 1), ((('palos', 'verdes'), 20.33519689308169), 1), ((('pic.twitter.com/pxbrcgypwm', \"'gitmo\"), 20.33519689308169), 1), ((('platformvideo', 'managementvideo'), 20.33519689308169), 1), ((('punctured', 'tires.february'), 20.33519689308169), 1), ((('r.t.', 'rybak'), 20.33519689308169), 1), ((('today.4767', '5774'), 20.33519689308169), 1), ((('vis-', '-vis'), 20.33519689308169), 1), ((('11/21/2009', '6/24/2016'), 20.072162487247894), 1), ((('300m', 'employee-related'), 20.072162487247894), 1), ((('bacha', 'bazi'), 20.072162487247894), 1), ((('bucolic', 'adirondacks'), 20.072162487247894), 1), ((('fern', 'ndez'), 20.072162487247894), 1), ((('kel', 'inen'), 20.072162487247894), 1), ((('kevork', 'djansezian/getty'), 20.072162487247894), 1), ((('miyoshi', 'jager'), 20.072162487247894), 1), ((('mondaiale', 'commerciale'), 20.072162487247894), 1), ((('paolo', 'gentiloni'), 20.072162487247894), 1), ((('psi', 'upsilon'), 20.072162487247894), 1), ((('sedrick', 'tydus'), 20.072162487247894), 1), ((('semper', 'fi'), 20.072162487247894), 1), ((('sseldorf', 'stuttgart'), 20.072162487247894), 1), ((('283', '-138'), 19.849770065911446), 1), ((('bendavid', 'grabinski'), 19.849770065911446), 1), ((('dani', 'bostick'), 19.849770065911446), 1), ((('g.k.', 'butterfield'), 19.849770065911446), 1), ((('neilson', 'barnard/getty'), 19.849770065911446), 1), ((('pic.twitter.com/fs297jooqi', 'vivelafrance'), 19.849770065911446), 1)]\n",
      "\n",
      "\n",
      "######################\n",
      "\n",
      "\n",
      "Top 50 adjectives in fake news:\n",
      " [('american', 16075), ('republican', 14763), ('new', 14198), ('white', 13146), ('hillary', 12635), ('u', 11558), ('trump', 10162), ('many', 9719), ('@', 8089), ('black', 8047), ('last', 7861), ('political', 7551), ('u.s.', 7363), ('national', 7204), ('former', 7124), ('united', 6914), ('public', 5968), ('donald', 5911), ('first', 5680), ('right', 5627), ('presidential', 5613), ('good', 5337), ('federal', 5316), ('much', 5177), ('russian', 4934), ('conservative', 4924), ('democratic', 4773), ('great', 4204), ('real', 3732), ('military', 3578), ('social', 3485), ('little', 3461), ('obama', 3455), ('clear', 3334), ('big', 3328), ('foreign', 3314), ('general', 3295), ('fox', 3252), ('free', 3203), ('liberal', 3132), ('several', 3081), ('illegal', 3001), ('least', 2977), ('recent', 2864), ('next', 2854), ('sure', 2848), ('young', 2677), ('bad', 2674), ('entire', 2663), ('able', 2606)]\n",
      "\n",
      "Top 50 adjectives in real news:\n",
      " [('american', 16075), ('republican', 14763), ('new', 14198), ('white', 13146), ('hillary', 12635), ('u', 11558), ('trump', 10162), ('many', 9719), ('@', 8089), ('black', 8047), ('last', 7861), ('political', 7551), ('u.s.', 7363), ('national', 7204), ('former', 7124), ('united', 6914), ('public', 5968), ('donald', 5911), ('first', 5680), ('right', 5627), ('presidential', 5613), ('good', 5337), ('federal', 5316), ('much', 5177), ('russian', 4934), ('conservative', 4924), ('democratic', 4773), ('great', 4204), ('real', 3732), ('military', 3578), ('social', 3485), ('little', 3461), ('obama', 3455), ('clear', 3334), ('big', 3328), ('foreign', 3314), ('general', 3295), ('fox', 3252), ('free', 3203), ('liberal', 3132), ('several', 3081), ('illegal', 3001), ('least', 2977), ('recent', 2864), ('next', 2854), ('sure', 2848), ('young', 2677), ('bad', 2674), ('entire', 2663), ('able', 2606)]\n"
     ]
    }
   ],
   "source": [
    "# Print the results\n",
    "print('Top 50 stop words in fake news:\\n', fake_news_stopwords)\n",
    "print('\\nTop 50 stop words in real news:\\n', real_news_stopwords)\n",
    "\n",
    "print(\"\\n\\n######################\\n\\n\")\n",
    "\n",
    "print('Top 50 content words in fake news:\\n', fake_news_content_words)\n",
    "print('Top 50 content words in real news:\\n', real_news_content_words)\n",
    "\n",
    "print(\"\\n\\n######################\\n\\n\")\n",
    "\n",
    "print('Top 50 bigrams in fake news:\\n', fake_news_bigrams_top50)\n",
    "print('\\nTop 50 bigrams in real news:\\n', real_news_bigrams_top50)\n",
    "\n",
    "print(\"\\n\\n######################\\n\\n\")\n",
    "\n",
    "print('Top 50 bigrams by MI in fake news:\\n', fake_news_bigrams_mi_top50)\n",
    "print('\\nTop 50 bigrams by MI in real news:\\n', real_news_bigrams_mi_top50)\n",
    "\n",
    "print(\"\\n\\n######################\\n\\n\")\n",
    "\n",
    "print('Top 50 adjectives in fake news:\\n', fake_news_adjectives)\n",
    "print('\\nTop 50 adjectives in real news:\\n', real_news_adjectives)\n"
   ]
  },
  {
   "cell_type": "markdown",
   "id": "85a9190c",
   "metadata": {
    "id": "85a9190c"
   },
   "source": [
    "### Further Analysis"
   ]
  },
  {
   "cell_type": "code",
   "execution_count": 17,
   "id": "b50962c6",
   "metadata": {
    "id": "b50962c6"
   },
   "outputs": [],
   "source": [
    "# Calculate the number of capitalized words\n",
    "def count_capitalized(text):\n",
    "    return len(re.findall(r'\\b[A-Z]{2,}\\b', text))\n"
   ]
  },
  {
   "cell_type": "code",
   "execution_count": 18,
   "id": "2ab56e33",
   "metadata": {
    "id": "2ab56e33"
   },
   "outputs": [],
   "source": [
    "# Calculate the number of exclamation marks\n",
    "def count_exclamation_marks(text):\n",
    "    return text.count('!')\n"
   ]
  },
  {
   "cell_type": "code",
   "execution_count": 19,
   "id": "8836bc84",
   "metadata": {
    "id": "8836bc84"
   },
   "outputs": [],
   "source": [
    "# Calculate the number of punctuation marks\n",
    "def count_punctuation(text):\n",
    "    return len([char for char in text if char in string.punctuation])\n"
   ]
  },
  {
   "cell_type": "code",
   "execution_count": 21,
   "id": "a00eee9c",
   "metadata": {
    "id": "a00eee9c",
    "scrolled": false
   },
   "outputs": [
    {
     "name": "stderr",
     "output_type": "stream",
     "text": [
      "100%|█████████████████████████████████████████████████████████████████████████████████████████████████████████| 21417/21417 [00:17<00:00, 1257.49it/s]\n",
      "100%|█████████████████████████████████████████████████████████████████████████████████████████████████████████| 23481/23481 [00:18<00:00, 1286.65it/s]\n",
      "100%|███████████████████████████████████████████████████████████████████████████████████████████████████████████| 21417/21417 [04:20<00:00, 82.06it/s]\n",
      "100%|███████████████████████████████████████████████████████████████████████████████████████████████████████████| 23481/23481 [04:47<00:00, 81.80it/s]\n",
      "100%|████████████████████████████████████████████████████████████████████████████████████████████████████████| 21417/21417 [00:00<00:00, 49600.60it/s]\n",
      "100%|███████████████████████████████████████████████████████████████████████████████████████████████████████| 21417/21417 [00:00<00:00, 867866.68it/s]\n",
      "100%|███████████████████████████████████████████████████████████████████████████████████████████████████████| 23481/23481 [00:00<00:00, 829667.01it/s]\n",
      "100%|████████████████████████████████████████████████████████████████████████████████████████████████████████| 21417/21417 [00:00<00:00, 26714.38it/s]\n",
      "100%|████████████████████████████████████████████████████████████████████████████████████████████████████████| 23481/23481 [00:00<00:00, 27249.12it/s]\n"
     ]
    }
   ],
   "source": [
    "# Apply the functions to the 'processed_text'\n",
    "real_news_df['word_count'] = real_news_df['text'].progress_apply(lambda x: len(nltk.word_tokenize(x)))\n",
    "fake_news_df['word_count'] = fake_news_df['text'].progress_apply(lambda x: len(nltk.word_tokenize(x)))\n",
    "\n",
    "real_news_df['content_word_count'] = real_news_df['text'].progress_apply(lambda x: len([word for word in nltk.word_tokenize(x) if word not in stopwords.words('english')]))\n",
    "fake_news_df['content_word_count'] = fake_news_df['text'].progress_apply(lambda x: len([word for word in nltk.word_tokenize(x) if word not in stopwords.words('english')]))\n",
    "\n",
    "real_news_df['capitalized_word_count'] = real_news_df['text'].progress_apply(count_capitalized)\n",
    "fake_news_df['capitalized_word_count'] = fake_news_df['text'].apply(count_capitalized)\n",
    "\n",
    "real_news_df['exclamation_mark_count'] = real_news_df['text'].progress_apply(count_exclamation_marks)\n",
    "fake_news_df['exclamation_mark_count'] = fake_news_df['text'].progress_apply(count_exclamation_marks)\n",
    "\n",
    "real_news_df['punctuation_count'] = real_news_df['text'].progress_apply(count_punctuation)\n",
    "fake_news_df['punctuation_count'] = fake_news_df['text'].progress_apply(count_punctuation)\n"
   ]
  },
  {
   "cell_type": "code",
   "execution_count": 22,
   "id": "87684240",
   "metadata": {
    "id": "87684240"
   },
   "outputs": [],
   "source": [
    "# Save the analysis\n",
    "real_news_df.to_csv('./Shreya_Zope_real_news_processed.csv', index=False)\n",
    "fake_news_df.to_csv('./Shreya_Zope_fake_news_processed.csv', index=False)\n"
   ]
  },
  {
   "cell_type": "markdown",
   "id": "a0bf24d7",
   "metadata": {
    "id": "a0bf24d7"
   },
   "source": [
    "### Compare Fake News vs Real News stats"
   ]
  },
  {
   "cell_type": "markdown",
   "id": "44dbd8dc",
   "metadata": {
    "id": "44dbd8dc"
   },
   "source": [
    "Interpretation of Analysis Results:\n",
    "\n",
    "- Word Count: Both real and fake news articles have similar average word counts, suggesting similar lengths of articles.\n",
    "\n",
    "- Content Word Count: The average content word counts are also similar, indicating comparable amounts of meaningful content in both types of articles.\n",
    "\n",
    "- Capitalized Word Count: The average count of capitalized words is zero for both, suggesting that capitalized words are not commonly used in either type of article.\n",
    "\n",
    "- Exclamation Mark Count: Fake news articles have a significantly higher average count of exclamation marks, indicating a more sensational or dramatic writing style.\n",
    "\n",
    "- Punctuation Count: Fake news articles have a higher average count of punctuation marks, suggesting potentially more complex sentences or a more sensational writing style.\n"
   ]
  },
  {
   "cell_type": "code",
   "execution_count": 23,
   "id": "062f4b28",
   "metadata": {
    "id": "062f4b28"
   },
   "outputs": [],
   "source": [
    "# Calculate the averages of the statistics for the real and fake news articles\n",
    "real_news_avg_word_count = real_news_df['word_count'].mean()\n",
    "fake_news_avg_word_count = fake_news_df['word_count'].mean()\n",
    "\n",
    "real_news_avg_content_word_count = real_news_df['content_word_count'].mean()\n",
    "fake_news_avg_content_word_count = fake_news_df['content_word_count'].mean()\n",
    "\n",
    "real_news_avg_capitalized_word_count = real_news_df['capitalized_word_count'].mean()\n",
    "fake_news_avg_capitalized_word_count = fake_news_df['capitalized_word_count'].mean()\n",
    "\n",
    "real_news_avg_exclamation_mark_count = real_news_df['exclamation_mark_count'].mean()\n",
    "fake_news_avg_exclamation_mark_count = fake_news_df['exclamation_mark_count'].mean()\n",
    "\n",
    "real_news_avg_punctuation_count = real_news_df['punctuation_count'].mean()\n",
    "fake_news_avg_punctuation_count = fake_news_df['punctuation_count'].mean()\n"
   ]
  },
  {
   "cell_type": "code",
   "execution_count": 24,
   "id": "88b9f601",
   "metadata": {
    "id": "88b9f601",
    "scrolled": true
   },
   "outputs": [
    {
     "name": "stdout",
     "output_type": "stream",
     "text": [
      "Real news average word count: 279.3409908016996\n",
      "Fake news average word count: 281.68106128359096\n",
      "Real news average content word count: 279.25666526591027\n",
      "Fake news average content word count: 281.629700609003\n",
      "Real news average capitalized word count: 0.0\n",
      "Fake news average capitalized word count: 0.0\n",
      "Real news average exclamation mark count: 0.06191343325395714\n",
      "Fake news average exclamation mark count: 0.7229675056428602\n",
      "Real news average punctuation count: 50.61782695989167\n",
      "Fake news average punctuation count: 59.23789446786764\n"
     ]
    }
   ],
   "source": [
    "# Print the averages\n",
    "print('Real news average word count:', real_news_avg_word_count)\n",
    "print('Fake news average word count:', fake_news_avg_word_count)\n",
    "\n",
    "print('Real news average content word count:', real_news_avg_content_word_count)\n",
    "print('Fake news average content word count:', fake_news_avg_content_word_count)\n",
    "\n",
    "print('Real news average capitalized word count:', real_news_avg_capitalized_word_count)\n",
    "print('Fake news average capitalized word count:', fake_news_avg_capitalized_word_count)\n",
    "\n",
    "print('Real news average exclamation mark count:', real_news_avg_exclamation_mark_count)\n",
    "print('Fake news average exclamation mark count:', fake_news_avg_exclamation_mark_count)\n",
    "\n",
    "print('Real news average punctuation count:', real_news_avg_punctuation_count)\n",
    "print('Fake news average punctuation count:', fake_news_avg_punctuation_count)\n"
   ]
  },
  {
   "cell_type": "code",
   "execution_count": null,
   "id": "ca5e6fa1",
   "metadata": {
    "id": "ca5e6fa1"
   },
   "outputs": [],
   "source": []
  },
  {
   "cell_type": "code",
   "execution_count": null,
   "id": "270fdc9a",
   "metadata": {},
   "outputs": [],
   "source": []
  }
 ],
 "metadata": {
  "colab": {
   "provenance": []
  },
  "kernelspec": {
   "display_name": "Python 3 (ipykernel)",
   "language": "python",
   "name": "python3"
  },
  "language_info": {
   "codemirror_mode": {
    "name": "ipython",
    "version": 3
   },
   "file_extension": ".py",
   "mimetype": "text/x-python",
   "name": "python",
   "nbconvert_exporter": "python",
   "pygments_lexer": "ipython3",
   "version": "3.11.5"
  }
 },
 "nbformat": 4,
 "nbformat_minor": 5
}
